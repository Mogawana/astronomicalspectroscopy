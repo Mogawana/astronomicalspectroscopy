{
 "cells": [
  {
   "cell_type": "markdown",
   "metadata": {},
   "source": [
    "(1) Spectrographs are common instruments on 10m class telescopes.  We have described two of these instruments in detail for SALT.   Now, look up a spectrograph on one of the other 10m class telescopes (Keck, VLT, Gemini, GTC, HET) in the world (these can usually be found by going to the instruments web page for the telescopes) and describe the instrument.  \n",
    "\n",
    "What are the primary components of a Spectrograph?  What do these do?  What different modes does the instrument have?  What are the resolutions and wavelenght coverage for the instrument? \n"
   ]
  },
  {
   "cell_type": "markdown",
   "metadata": {},
   "source": [
    "(2) Observations of this star are made by SALT on two different nights.  On the first night, the seeing was 1” but deteriorated to 2” on the second night.  How does this effect the observations? What changes can be made to the observations to maintain the same signal to noise ?   \n"
   ]
  },
  {
   "cell_type": "markdown",
   "metadata": {},
   "source": [
    "(3) Observations are made with the RSS spectrograph on salt with a 1\" slit, the PG0900 grating, and a grating angle.  The observations are made in littrow with a grating angle of 17.375 degrees.  What are the central wavelenght and resolution for the observation?   Please show all work.  "
   ]
  }
 ],
 "metadata": {
  "anaconda-cloud": {},
  "kernelspec": {
   "display_name": "Python [conda env:pyjedi]",
   "language": "python",
   "name": "conda-env-pyjedi-py"
  },
  "language_info": {
   "codemirror_mode": {
    "name": "ipython",
    "version": 3
   },
   "file_extension": ".py",
   "mimetype": "text/x-python",
   "name": "python",
   "nbconvert_exporter": "python",
   "pygments_lexer": "ipython3",
   "version": "3.5.2"
  }
 },
 "nbformat": 4,
 "nbformat_minor": 1
}
