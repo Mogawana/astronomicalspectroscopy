{
 "cells": [
  {
   "cell_type": "markdown",
   "metadata": {},
   "source": [
    "1) Complex Atoms\n",
    "\n",
    "a. (2pt) The symbol for a particular level is quoted as $^4 F^o_{7/2}$. What are the values of\n",
    "L, S, and J for this level? How many states does it have? What are the other\n",
    "levels for this term?\n",
    "\n",
    "b. (2pt) Give the electron configuration for OI. Give the energy level diagram of the\n",
    "ground state configuration. Label each level using the LS coupling notation.\n",
    "\n",
    "c. (4pt) Give the full L-S notation for all levels between the following transitions.\n",
    "Which spectral lines are allowed under electric dipole selection rules? Are any\n",
    "forbidden or intercombination transitions? Under what astronomical conditions\n",
    "would you be expected these types of transition?\n",
    "\n",
    "* CIII 2s2p -> 2s2\n",
    "* NaI 5f -> 3d\n",
    "\n",
    "d. (2pt) What are the levels available to MgI in the 3s13p1 state? What transitions\n",
    "are available between this excited state and the 3s14s1 state? Which are\n",
    "allowed?\n",
    "\n",
    "e. (2pt) Using the NIST line reference (http://www.physics.nist.gov/PhysRefData/ASD/index.html), what is the rate for spontaneous decay for the following\n",
    "transitions: Hα, [OII]3727, Ca H and K, and Mg 5176.7? What are the different\n",
    "transitions that can produce these lines? Why do different transitions exist?"
   ]
  }
 ],
 "metadata": {
  "kernelspec": {
   "display_name": "Python 3",
   "language": "python",
   "name": "python3"
  },
  "language_info": {
   "codemirror_mode": {
    "name": "ipython",
    "version": 3
   },
   "file_extension": ".py",
   "mimetype": "text/x-python",
   "name": "python",
   "nbconvert_exporter": "python",
   "pygments_lexer": "ipython3",
   "version": "3.5.2"
  }
 },
 "nbformat": 4,
 "nbformat_minor": 0
}
